{
 "cells": [
  {
   "cell_type": "code",
   "execution_count": 3,
   "id": "6376a668",
   "metadata": {},
   "outputs": [],
   "source": [
    "import numpy as np\n",
    "import pandas as pd\n",
    "import tifffile as tf\n",
    "import matplotlib.pyplot as plt\n",
    "from pathlib import Path\n"
   ]
  },
  {
   "cell_type": "code",
   "execution_count": null,
   "id": "97268357",
   "metadata": {},
   "outputs": [
    {
     "name": "stdout",
     "output_type": "stream",
     "text": [
      "Tiff file dimensions: (79, 1024, 1024)#\n"
     ]
    }
   ],
   "source": [
    "base_path = Path().resolve().parent\n",
    "data_dir = base_path / \"data\"\n",
    "\n",
    "image = tf.imread(data_dir / \"confocal\" / \"actin-confocal-highsnr.tif\")\n",
    "print(f\"Tiff file dimensions: {image.shape}\") "
   ]
  },
  {
   "cell_type": "code",
   "execution_count": null,
   "id": "0c750a2c",
   "metadata": {},
   "outputs": [],
   "source": []
  },
  {
   "cell_type": "code",
   "execution_count": null,
   "id": "e8a3fa55",
   "metadata": {},
   "outputs": [],
   "source": []
  },
  {
   "cell_type": "code",
   "execution_count": null,
   "id": "1fe303d7",
   "metadata": {},
   "outputs": [],
   "source": []
  }
 ],
 "metadata": {
  "kernelspec": {
   "display_name": "n2v_fl",
   "language": "python",
   "name": "python3"
  },
  "language_info": {
   "codemirror_mode": {
    "name": "ipython",
    "version": 3
   },
   "file_extension": ".py",
   "mimetype": "text/x-python",
   "name": "python",
   "nbconvert_exporter": "python",
   "pygments_lexer": "ipython3",
   "version": "3.12.11"
  }
 },
 "nbformat": 4,
 "nbformat_minor": 5
}
